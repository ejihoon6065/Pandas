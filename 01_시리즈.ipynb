{
 "cells": [
  {
   "cell_type": "markdown",
   "metadata": {},
   "source": [
    "# Pandas\n",
    "\n",
    "데이터 프레임(통계관련 분야)을 생성해서 관리할 수 있는 패키지"
   ]
  },
  {
   "cell_type": "code",
   "execution_count": 1,
   "metadata": {},
   "outputs": [],
   "source": [
    "import pandas as pd\n",
    "import numpy as np"
   ]
  },
  {
   "cell_type": "markdown",
   "metadata": {},
   "source": [
    "### 시리즈\n",
    "\n",
    "데이터 프레임을 구성하는 특성 하나를 의미, 1차원 배열과 유사"
   ]
  },
  {
   "cell_type": "code",
   "execution_count": 2,
   "metadata": {},
   "outputs": [
    {
     "data": {
      "text/plain": [
       "0    990232\n",
       "1    344213\n",
       "2    434323\n",
       "3    323434\n",
       "dtype: int64"
      ]
     },
     "execution_count": 2,
     "metadata": {},
     "output_type": "execute_result"
    }
   ],
   "source": [
    "# 리스트처럼 관리하는 것\n",
    "data1 = [990232,344213,434323,323434]\n",
    "s1 = pd.Series(data1)\n",
    "s1"
   ]
  },
  {
   "cell_type": "code",
   "execution_count": 36,
   "metadata": {},
   "outputs": [],
   "source": [
    "data1 = [990232,344213,434323,323434]\n",
    "index1 = ['서울', '부산', '인천', '대구']"
   ]
  },
  {
   "cell_type": "code",
   "execution_count": 37,
   "metadata": {},
   "outputs": [
    {
     "name": "stdout",
     "output_type": "stream",
     "text": [
      "[990232 344213 434323 323434]\n",
      "Index(['서울', '부산', '인천', '대구'], dtype='object')\n"
     ]
    }
   ],
   "source": [
    "# 딕셔너리와 유사하게 관리하겠다는 것\n",
    "s2 = pd.Series(data1, index=index1)\n",
    "s2\n",
    "\n",
    "# 값만 추출\n",
    "print(s2.values)\n",
    "#인덱스만 추출\n",
    "print(s2.index)"
   ]
  },
  {
   "cell_type": "code",
   "execution_count": 5,
   "metadata": {},
   "outputs": [
    {
     "data": {
      "text/plain": [
       "서울    990232\n",
       "부산    344213\n",
       "인천    434323\n",
       "대구    323434\n",
       "Name: 인구, dtype: int64"
      ]
     },
     "execution_count": 5,
     "metadata": {},
     "output_type": "execute_result"
    }
   ],
   "source": [
    "# 시리즈의 이름을 셋팅한다\n",
    "s2.name = '인구'\n",
    "s2"
   ]
  },
  {
   "cell_type": "code",
   "execution_count": 6,
   "metadata": {},
   "outputs": [
    {
     "name": "stdout",
     "output_type": "stream",
     "text": [
      "서울    990232\n",
      "부산    344213\n",
      "인천    434323\n",
      "대구    323434\n",
      "Name: 인구, dtype: int64\n",
      "서울    1319825\n",
      "부산     673806\n",
      "인천     763916\n",
      "대구     653027\n",
      "Name: 인구, dtype: int64\n",
      "서울    660639\n",
      "부산     14620\n",
      "인천    104730\n",
      "대구     -6159\n",
      "Name: 인구, dtype: int64\n",
      "서울    153485960\n",
      "부산     53353015\n",
      "인천     67320065\n",
      "대구     50132270\n",
      "Name: 인구, dtype: int64\n",
      "서울    61889\n",
      "부산    21513\n",
      "인천    27145\n",
      "대구    20214\n",
      "Name: 인구, dtype: int64\n"
     ]
    }
   ],
   "source": [
    "# 시리즈 연산 ; numpy랑 같은\n",
    "print(s2)\n",
    "print(s2 + 329593)\n",
    "print(s2 - 329593)\n",
    "print(s2 * 155)\n",
    "print(s2 // 16)"
   ]
  },
  {
   "cell_type": "code",
   "execution_count": 7,
   "metadata": {},
   "outputs": [
    {
     "data": {
      "text/plain": [
       "서울    990232\n",
       "부산    344213\n",
       "인천    434323\n",
       "대구    323434\n",
       "Name: 인구, dtype: int64"
      ]
     },
     "execution_count": 7,
     "metadata": {},
     "output_type": "execute_result"
    }
   ],
   "source": [
    "s2"
   ]
  },
  {
   "cell_type": "code",
   "execution_count": 8,
   "metadata": {},
   "outputs": [
    {
     "name": "stdout",
     "output_type": "stream",
     "text": [
      "344213\n",
      "344213\n"
     ]
    }
   ],
   "source": [
    "print(s2[1])\n",
    "print(s2['부산'])"
   ]
  },
  {
   "cell_type": "code",
   "execution_count": 9,
   "metadata": {},
   "outputs": [
    {
     "name": "stdout",
     "output_type": "stream",
     "text": [
      "서울    990232\n",
      "부산    344213\n",
      "인천    434323\n",
      "Name: 인구, dtype: int64\n",
      "서울    990232\n",
      "부산    344213\n",
      "인천    434323\n",
      "Name: 인구, dtype: int64\n"
     ]
    }
   ],
   "source": [
    "# 다수의 값을 선택해서 가져온다\n",
    "print(s2[[0,1,2]])\n",
    "print(s2[['서울', '부산', '인천']])"
   ]
  },
  {
   "cell_type": "code",
   "execution_count": 10,
   "metadata": {},
   "outputs": [
    {
     "name": "stdout",
     "output_type": "stream",
     "text": [
      "인천    434323\n",
      "서울    990232\n",
      "부산    344213\n",
      "Name: 인구, dtype: int64\n",
      "인천    434323\n",
      "서울    990232\n",
      "부산    344213\n",
      "Name: 인구, dtype: int64\n"
     ]
    }
   ],
   "source": [
    "print(s2[[2,0,1]])\n",
    "print(s2[['인천', '서울', '부산']])"
   ]
  },
  {
   "cell_type": "code",
   "execution_count": 11,
   "metadata": {},
   "outputs": [
    {
     "name": "stdout",
     "output_type": "stream",
     "text": [
      "0    990232\n",
      "2    434323\n",
      "dtype: int64\n"
     ]
    }
   ],
   "source": [
    "# True나 False가 들어있는 리스트, 배열(넘파이), 시리즈를 넣어주면 \n",
    "# True에 해당하는 값들만 모아 새로운 시리즈로 생성\n",
    "\n",
    "t1 = [True, False, True, False]\n",
    "print(s1[t1])"
   ]
  },
  {
   "cell_type": "code",
   "execution_count": 12,
   "metadata": {},
   "outputs": [
    {
     "name": "stdout",
     "output_type": "stream",
     "text": [
      "서울    990232\n",
      "인천    434323\n",
      "Name: 인구, dtype: int64\n"
     ]
    }
   ],
   "source": [
    "# 시리즈를 가지고 True나 False의 결과를 생성하는 수식을 넣어주면 시리즈 생성\n",
    "# 이 시리즈를 넣어서 원하는 조건에 맞는 데이터만 가져올 수 있다\n",
    "print(s2[s2 > 350000])"
   ]
  },
  {
   "cell_type": "code",
   "execution_count": 39,
   "metadata": {},
   "outputs": [
    {
     "name": "stdout",
     "output_type": "stream",
     "text": [
      "서울    990232\n",
      "부산    344213\n",
      "인천    434323\n",
      "대구    323434\n",
      "dtype: int64\n",
      "----------비교------------\n",
      "부산    344213\n",
      "인천    434323\n",
      "dtype: int64\n",
      "----------비교------------\n",
      "서울    990232\n",
      "부산    344213\n",
      "인천    434323\n",
      "dtype: int64\n"
     ]
    }
   ],
   "source": [
    "# 범위 지정\n",
    "print(s2)\n",
    "\n",
    "print('----------비교------------')\n",
    "# 1 ~ 3-1까지\n",
    "print(s2[1:3])\n",
    "print('----------비교------------')\n",
    "# 서울 ~ 인천까지(순서?)\n",
    "print(s2['서울':'인천'])"
   ]
  },
  {
   "cell_type": "code",
   "execution_count": 14,
   "metadata": {},
   "outputs": [
    {
     "name": "stdout",
     "output_type": "stream",
     "text": [
      "990232\n",
      "990232\n"
     ]
    }
   ],
   "source": [
    "# 만약 시리즈의 인덱스가 문자열로 되어 있다면 .을 통해서 가져올 수도 있다\n",
    "print(s2['서울'])\n",
    "print(s2.서울)"
   ]
  },
  {
   "cell_type": "code",
   "execution_count": 15,
   "metadata": {},
   "outputs": [
    {
     "data": {
      "text/plain": [
       "0    9902332\n",
       "1    3442133\n",
       "2    2434323\n",
       "3    2323434\n",
       "dtype: int64"
      ]
     },
     "execution_count": 15,
     "metadata": {},
     "output_type": "execute_result"
    }
   ],
   "source": [
    "# 시리즈의 인덱스가 숫자로 되어있다면??\n",
    "data2 = [9902332,3442133,2434323,2323434]\n",
    "s2 = pd.Series(data2)\n",
    "s2"
   ]
  },
  {
   "cell_type": "code",
   "execution_count": 16,
   "metadata": {},
   "outputs": [
    {
     "name": "stdout",
     "output_type": "stream",
     "text": [
      "9902332\n",
      "3442133\n",
      "2434323\n",
      "2323434\n"
     ]
    }
   ],
   "source": [
    "for value in s2 :\n",
    "    print(value)\n",
    "    \n"
   ]
  },
  {
   "cell_type": "code",
   "execution_count": 17,
   "metadata": {},
   "outputs": [
    {
     "data": {
      "text/plain": [
       "서울    990232\n",
       "부산    344213\n",
       "인천    434323\n",
       "대구    323434\n",
       "dtype: int64"
      ]
     },
     "execution_count": 17,
     "metadata": {},
     "output_type": "execute_result"
    }
   ],
   "source": [
    "# 시리즈의 인덱스가 문자열로 되어 있다면\n",
    "data3 = [990232,344213,434323,323434]\n",
    "index3 = ['서울', '부산', '인천', '대구']\n",
    "s3 = pd.Series(data3, index=index3)\n",
    "s3"
   ]
  },
  {
   "cell_type": "code",
   "execution_count": 18,
   "metadata": {},
   "outputs": [
    {
     "name": "stdout",
     "output_type": "stream",
     "text": [
      "990232\n",
      "344213\n",
      "434323\n",
      "323434\n"
     ]
    }
   ],
   "source": [
    "for value in s3 :\n",
    "    print(value)"
   ]
  },
  {
   "cell_type": "code",
   "execution_count": 19,
   "metadata": {},
   "outputs": [
    {
     "data": {
      "text/plain": [
       "[('서울', 990232), ('부산', 344213), ('인천', 434323), ('대구', 323434)]"
      ]
     },
     "execution_count": 19,
     "metadata": {},
     "output_type": "execute_result"
    }
   ],
   "source": [
    "list(s3.items())"
   ]
  },
  {
   "cell_type": "code",
   "execution_count": 41,
   "metadata": {},
   "outputs": [
    {
     "name": "stdout",
     "output_type": "stream",
     "text": [
      "서울 990232\n",
      "부산 344213\n",
      "인천 434323\n",
      "대구 323434\n"
     ]
    }
   ],
   "source": [
    "# 딕셔너리처럼 만들기\n",
    "for key, value in s3.items() :\n",
    "    print(key, value)\n",
    "\n",
    "s9 = pd.Series([990232, 344213, 434323, 323434], index = ['서울', '부산', '인천', '대구'])"
   ]
  },
  {
   "cell_type": "code",
   "execution_count": 43,
   "metadata": {},
   "outputs": [
    {
     "name": "stdout",
     "output_type": "stream",
     "text": [
      "v1    100\n",
      "v2    200\n",
      "v3    300\n",
      "v4    400\n",
      "v5    500\n",
      "dtype: int64\n"
     ]
    }
   ],
   "source": [
    "# 시리즈 생성하기\n",
    "s10 = pd.Series([100, 200, 300, 400, 500], index = ['v1', 'v2', 'v3','v4','v5'])\n",
    "print(s10)"
   ]
  },
  {
   "cell_type": "code",
   "execution_count": 22,
   "metadata": {},
   "outputs": [
    {
     "data": {
      "text/plain": [
       "v1    100\n",
       "v2    200\n",
       "v3    300\n",
       "dtype: int64"
      ]
     },
     "execution_count": 22,
     "metadata": {},
     "output_type": "execute_result"
    }
   ],
   "source": [
    "s20 = pd.Series({'v1' : 100, 'v2' : 200, 'v3' : 300})\n",
    "s20"
   ]
  },
  {
   "cell_type": "code",
   "execution_count": 23,
   "metadata": {},
   "outputs": [
    {
     "data": {
      "text/plain": [
       "a1   NaN\n",
       "a2   NaN\n",
       "a3   NaN\n",
       "dtype: float64"
      ]
     },
     "execution_count": 23,
     "metadata": {},
     "output_type": "execute_result"
    }
   ],
   "source": [
    "s30 = pd.Series({'v1' : 100, 'v2' : 200, 'v3' : 300}, index = ['a1', 'a2', 'a3'])\n",
    "s30"
   ]
  },
  {
   "cell_type": "code",
   "execution_count": 24,
   "metadata": {},
   "outputs": [
    {
     "data": {
      "text/plain": [
       "v2    200\n",
       "v3    300\n",
       "v1    100\n",
       "dtype: int64"
      ]
     },
     "execution_count": 24,
     "metadata": {},
     "output_type": "execute_result"
    }
   ],
   "source": [
    "# index를 따로 세팅할 경우 세팅한 순서대로 시리즈가 만들어지며 존재하지 않는\n",
    "# index는 결측치로 채워진다(NaN)\n",
    "s30 = pd.Series({'v1' : 100, 'v2' : 200, 'v3' : 300}, index = ['v2', 'v3', 'v1'])\n",
    "s30"
   ]
  },
  {
   "cell_type": "code",
   "execution_count": 44,
   "metadata": {},
   "outputs": [],
   "source": [
    "### 시리즈 연산\n",
    "\n",
    "s100 = pd.Series([10,20,30], index = ['a1', 'a2', 'a3'])\n",
    "s200 = pd.Series([40,50,60], index = ['a2', 'a3', 'a4'])\n"
   ]
  },
  {
   "cell_type": "code",
   "execution_count": 26,
   "metadata": {},
   "outputs": [
    {
     "name": "stdout",
     "output_type": "stream",
     "text": [
      "a1    10\n",
      "a2    20\n",
      "a3    30\n",
      "dtype: int64\n",
      "a2    40\n",
      "a3    50\n",
      "a4    60\n",
      "dtype: int64\n"
     ]
    }
   ],
   "source": [
    "print(s100)\n",
    "print(s200)"
   ]
  },
  {
   "cell_type": "code",
   "execution_count": 27,
   "metadata": {},
   "outputs": [
    {
     "data": {
      "text/plain": [
       "a1     NaN\n",
       "a2    60.0\n",
       "a3    80.0\n",
       "a4     NaN\n",
       "dtype: float64"
      ]
     },
     "execution_count": 27,
     "metadata": {},
     "output_type": "execute_result"
    }
   ],
   "source": [
    "# index가 다른 값들은 덧셈 연산에서 NaN 발생\n",
    "r1 = s100 + s200\n",
    "r1"
   ]
  },
  {
   "cell_type": "code",
   "execution_count": 28,
   "metadata": {},
   "outputs": [
    {
     "name": "stdout",
     "output_type": "stream",
     "text": [
      "[10 20 30]\n",
      "[40 50 60]\n",
      "[50 70 90]\n"
     ]
    }
   ],
   "source": [
    "# index가 다른 값이더라도 Value만을 추출해서 덧셈 연산시킬 수 있음\n",
    "r2 = s100.values + s200.values\n",
    "print(s100.values)\n",
    "print(s200.values)\n",
    "print(r2)"
   ]
  },
  {
   "cell_type": "code",
   "execution_count": 29,
   "metadata": {},
   "outputs": [
    {
     "name": "stdout",
     "output_type": "stream",
     "text": [
      "a1    50.0\n",
      "a2    70.0\n",
      "a3     NaN\n",
      "dtype: float64\n"
     ]
    }
   ],
   "source": [
    "s300 = pd.Series([10,20,30], index = ['a1', 'a2', 'a3'])\n",
    "s400 = pd.Series([40,50], index = ['a1', 'a2'])\n",
    "print(s300 + s400)\n",
    "# 한쪽에만 있는 a3 가 연산 과정에서 결측치로 나옴"
   ]
  },
  {
   "cell_type": "code",
   "execution_count": 30,
   "metadata": {},
   "outputs": [
    {
     "data": {
      "text/plain": [
       "a1    50.0\n",
       "a2    70.0\n",
       "dtype: float64"
      ]
     },
     "execution_count": 30,
     "metadata": {},
     "output_type": "execute_result"
    }
   ],
   "source": [
    "# .으로 조건 부가\n",
    "(s300 + s400)[(s300 + s400).notnull()]"
   ]
  },
  {
   "cell_type": "code",
   "execution_count": 47,
   "metadata": {},
   "outputs": [
    {
     "name": "stdout",
     "output_type": "stream",
     "text": [
      "a1    50.0\n",
      "a2    70.0\n",
      "dtype: float64\n",
      "----------------------\n",
      "a1     True\n",
      "a2     True\n",
      "a3    False\n",
      "dtype: bool\n",
      "----------------------\n",
      "a1    50.0\n",
      "a2    70.0\n",
      "a3     0.0\n",
      "dtype: float64\n"
     ]
    }
   ],
   "source": [
    "# 출력 ; 조건으로 들어감\n",
    "r100 = s300 + s400\n",
    "print(r100[r100.notnull()])\n",
    "print('----------------------')\n",
    "# 출력; yes or no 문제\n",
    "print(r100.notnull())\n",
    "# 계산 후 결측치 부분을 제외하고 가져옴\n",
    "print('----------------------')\n",
    "print(r100.fillna(0))\n",
    "# 계산 후 결측치 부분을 원하는 값으로 가져옴"
   ]
  },
  {
   "cell_type": "markdown",
   "metadata": {},
   "source": [
    "### 갱신, 추가, 삭제"
   ]
  },
  {
   "cell_type": "code",
   "execution_count": 32,
   "metadata": {},
   "outputs": [
    {
     "data": {
      "text/plain": [
       "v1    10\n",
       "v2    20\n",
       "v3    30\n",
       "dtype: int64"
      ]
     },
     "execution_count": 32,
     "metadata": {},
     "output_type": "execute_result"
    }
   ],
   "source": [
    "s500 = pd.Series([10,20,30], index = ['v1', 'v2', 'v3'])\n",
    "s500"
   ]
  },
  {
   "cell_type": "code",
   "execution_count": 33,
   "metadata": {},
   "outputs": [
    {
     "data": {
      "text/plain": [
       "v1    100\n",
       "v2     20\n",
       "v3     30\n",
       "dtype: int64"
      ]
     },
     "execution_count": 33,
     "metadata": {},
     "output_type": "execute_result"
    }
   ],
   "source": [
    "s500['v1'] = 100\n",
    "s500\n",
    "# 원본 자체가 바뀌는 것"
   ]
  },
  {
   "cell_type": "code",
   "execution_count": 34,
   "metadata": {},
   "outputs": [
    {
     "data": {
      "text/plain": [
       "v1    100\n",
       "v2     20\n",
       "v3     30\n",
       "v5    600\n",
       "dtype: int64"
      ]
     },
     "execution_count": 34,
     "metadata": {},
     "output_type": "execute_result"
    }
   ],
   "source": [
    "s500['v5'] = 600\n",
    "s500\n",
    "# 원본에 새로운 값을 추가"
   ]
  },
  {
   "cell_type": "code",
   "execution_count": 35,
   "metadata": {},
   "outputs": [
    {
     "data": {
      "text/plain": [
       "v2     20\n",
       "v3     30\n",
       "v5    600\n",
       "dtype: int64"
      ]
     },
     "execution_count": 35,
     "metadata": {},
     "output_type": "execute_result"
    }
   ],
   "source": [
    "del s500['v1']\n",
    "s500\n",
    "# 원본 값 삭제"
   ]
  },
  {
   "cell_type": "code",
   "execution_count": null,
   "metadata": {},
   "outputs": [],
   "source": []
  }
 ],
 "metadata": {
  "kernelspec": {
   "display_name": "Python 3",
   "language": "python",
   "name": "python3"
  },
  "language_info": {
   "codemirror_mode": {
    "name": "ipython",
    "version": 3
   },
   "file_extension": ".py",
   "mimetype": "text/x-python",
   "name": "python",
   "nbconvert_exporter": "python",
   "pygments_lexer": "ipython3",
   "version": "3.7.6"
  }
 },
 "nbformat": 4,
 "nbformat_minor": 4
}
